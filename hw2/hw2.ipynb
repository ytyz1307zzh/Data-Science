{
 "cells": [
  {
   "cell_type": "markdown",
   "source": [
    "# Notre Dame Football Game Prediction"
   ],
   "metadata": {}
  },
  {
   "cell_type": "markdown",
   "source": [
    "## 0. Load data"
   ],
   "metadata": {}
  },
  {
   "cell_type": "markdown",
   "source": [
    "### 0.1. Load training data from file"
   ],
   "metadata": {}
  },
  {
   "cell_type": "code",
   "execution_count": 191,
   "source": [
    "import pandas as pd\r\n",
    "dfTrain = pd.read_csv(\"train.txt\", delimiter='\\t')\r\n",
    "dfTrain"
   ],
   "outputs": [
    {
     "output_type": "execute_result",
     "data": {
      "text/html": [
       "<div>\n",
       "<style scoped>\n",
       "    .dataframe tbody tr th:only-of-type {\n",
       "        vertical-align: middle;\n",
       "    }\n",
       "\n",
       "    .dataframe tbody tr th {\n",
       "        vertical-align: top;\n",
       "    }\n",
       "\n",
       "    .dataframe thead th {\n",
       "        text-align: right;\n",
       "    }\n",
       "</style>\n",
       "<table border=\"1\" class=\"dataframe\">\n",
       "  <thead>\n",
       "    <tr style=\"text-align: right;\">\n",
       "      <th></th>\n",
       "      <th>ID</th>\n",
       "      <th>Date</th>\n",
       "      <th>Opponent</th>\n",
       "      <th>Is_Home_or_Away</th>\n",
       "      <th>Is_Opponent_in_AP25_Preseason</th>\n",
       "      <th>Media</th>\n",
       "      <th>Label</th>\n",
       "    </tr>\n",
       "  </thead>\n",
       "  <tbody>\n",
       "    <tr>\n",
       "      <th>0</th>\n",
       "      <td>1</td>\n",
       "      <td>9/5/15</td>\n",
       "      <td>Texas</td>\n",
       "      <td>Home</td>\n",
       "      <td>Out</td>\n",
       "      <td>NBC</td>\n",
       "      <td>Win</td>\n",
       "    </tr>\n",
       "    <tr>\n",
       "      <th>1</th>\n",
       "      <td>2</td>\n",
       "      <td>9/12/15</td>\n",
       "      <td>Virginia</td>\n",
       "      <td>Away</td>\n",
       "      <td>Out</td>\n",
       "      <td>ABC</td>\n",
       "      <td>Win</td>\n",
       "    </tr>\n",
       "    <tr>\n",
       "      <th>2</th>\n",
       "      <td>3</td>\n",
       "      <td>9/19/15</td>\n",
       "      <td>Georgia Tech</td>\n",
       "      <td>Home</td>\n",
       "      <td>In</td>\n",
       "      <td>NBC</td>\n",
       "      <td>Win</td>\n",
       "    </tr>\n",
       "    <tr>\n",
       "      <th>3</th>\n",
       "      <td>4</td>\n",
       "      <td>9/26/15</td>\n",
       "      <td>UMass</td>\n",
       "      <td>Home</td>\n",
       "      <td>Out</td>\n",
       "      <td>NBC</td>\n",
       "      <td>Win</td>\n",
       "    </tr>\n",
       "    <tr>\n",
       "      <th>4</th>\n",
       "      <td>5</td>\n",
       "      <td>10/3/15</td>\n",
       "      <td>Clemson</td>\n",
       "      <td>Away</td>\n",
       "      <td>In</td>\n",
       "      <td>ABC</td>\n",
       "      <td>Lose</td>\n",
       "    </tr>\n",
       "    <tr>\n",
       "      <th>5</th>\n",
       "      <td>6</td>\n",
       "      <td>10/10/15</td>\n",
       "      <td>Navy</td>\n",
       "      <td>Home</td>\n",
       "      <td>Out</td>\n",
       "      <td>NBC</td>\n",
       "      <td>Win</td>\n",
       "    </tr>\n",
       "    <tr>\n",
       "      <th>6</th>\n",
       "      <td>7</td>\n",
       "      <td>10/17/15</td>\n",
       "      <td>USC</td>\n",
       "      <td>Home</td>\n",
       "      <td>In</td>\n",
       "      <td>NBC</td>\n",
       "      <td>Win</td>\n",
       "    </tr>\n",
       "    <tr>\n",
       "      <th>7</th>\n",
       "      <td>8</td>\n",
       "      <td>10/31/15</td>\n",
       "      <td>Temple</td>\n",
       "      <td>Away</td>\n",
       "      <td>Out</td>\n",
       "      <td>ABC</td>\n",
       "      <td>Win</td>\n",
       "    </tr>\n",
       "    <tr>\n",
       "      <th>8</th>\n",
       "      <td>9</td>\n",
       "      <td>11/7/15</td>\n",
       "      <td>PITT</td>\n",
       "      <td>Away</td>\n",
       "      <td>Out</td>\n",
       "      <td>ABC</td>\n",
       "      <td>Win</td>\n",
       "    </tr>\n",
       "    <tr>\n",
       "      <th>9</th>\n",
       "      <td>10</td>\n",
       "      <td>11/14/15</td>\n",
       "      <td>Wake Forest</td>\n",
       "      <td>Home</td>\n",
       "      <td>Out</td>\n",
       "      <td>NBC</td>\n",
       "      <td>Win</td>\n",
       "    </tr>\n",
       "    <tr>\n",
       "      <th>10</th>\n",
       "      <td>11</td>\n",
       "      <td>11/21/15</td>\n",
       "      <td>Boston College</td>\n",
       "      <td>Away</td>\n",
       "      <td>Out</td>\n",
       "      <td>NBC</td>\n",
       "      <td>Win</td>\n",
       "    </tr>\n",
       "    <tr>\n",
       "      <th>11</th>\n",
       "      <td>12</td>\n",
       "      <td>11/28/15</td>\n",
       "      <td>Stanford</td>\n",
       "      <td>Away</td>\n",
       "      <td>In</td>\n",
       "      <td>FOX</td>\n",
       "      <td>Lose</td>\n",
       "    </tr>\n",
       "    <tr>\n",
       "      <th>12</th>\n",
       "      <td>13</td>\n",
       "      <td>9/4/16</td>\n",
       "      <td>Texas</td>\n",
       "      <td>Away</td>\n",
       "      <td>Out</td>\n",
       "      <td>ABC</td>\n",
       "      <td>Lose</td>\n",
       "    </tr>\n",
       "    <tr>\n",
       "      <th>13</th>\n",
       "      <td>14</td>\n",
       "      <td>9/10/16</td>\n",
       "      <td>Nevada</td>\n",
       "      <td>Home</td>\n",
       "      <td>Out</td>\n",
       "      <td>NBC</td>\n",
       "      <td>Win</td>\n",
       "    </tr>\n",
       "    <tr>\n",
       "      <th>14</th>\n",
       "      <td>15</td>\n",
       "      <td>9/17/16</td>\n",
       "      <td>Michigan State</td>\n",
       "      <td>Home</td>\n",
       "      <td>Out</td>\n",
       "      <td>NBC</td>\n",
       "      <td>Lose</td>\n",
       "    </tr>\n",
       "    <tr>\n",
       "      <th>15</th>\n",
       "      <td>16</td>\n",
       "      <td>9/24/16</td>\n",
       "      <td>Duke</td>\n",
       "      <td>Home</td>\n",
       "      <td>Out</td>\n",
       "      <td>NBC</td>\n",
       "      <td>Lose</td>\n",
       "    </tr>\n",
       "    <tr>\n",
       "      <th>16</th>\n",
       "      <td>17</td>\n",
       "      <td>10/1/16</td>\n",
       "      <td>Syracuse</td>\n",
       "      <td>Home</td>\n",
       "      <td>Out</td>\n",
       "      <td>ESPN</td>\n",
       "      <td>Win</td>\n",
       "    </tr>\n",
       "    <tr>\n",
       "      <th>17</th>\n",
       "      <td>18</td>\n",
       "      <td>10/8/16</td>\n",
       "      <td>North Carolina State</td>\n",
       "      <td>Away</td>\n",
       "      <td>Out</td>\n",
       "      <td>ABC</td>\n",
       "      <td>Lose</td>\n",
       "    </tr>\n",
       "    <tr>\n",
       "      <th>18</th>\n",
       "      <td>19</td>\n",
       "      <td>10/15/16</td>\n",
       "      <td>Stanford</td>\n",
       "      <td>Home</td>\n",
       "      <td>In</td>\n",
       "      <td>NBC</td>\n",
       "      <td>Lose</td>\n",
       "    </tr>\n",
       "    <tr>\n",
       "      <th>19</th>\n",
       "      <td>20</td>\n",
       "      <td>10/29/16</td>\n",
       "      <td>Miami Florida</td>\n",
       "      <td>Home</td>\n",
       "      <td>Out</td>\n",
       "      <td>NBC</td>\n",
       "      <td>Win</td>\n",
       "    </tr>\n",
       "    <tr>\n",
       "      <th>20</th>\n",
       "      <td>21</td>\n",
       "      <td>11/5/16</td>\n",
       "      <td>Navy</td>\n",
       "      <td>Home</td>\n",
       "      <td>Out</td>\n",
       "      <td>CBS</td>\n",
       "      <td>Lose</td>\n",
       "    </tr>\n",
       "    <tr>\n",
       "      <th>21</th>\n",
       "      <td>22</td>\n",
       "      <td>11/12/16</td>\n",
       "      <td>Army</td>\n",
       "      <td>Home</td>\n",
       "      <td>Out</td>\n",
       "      <td>NBC</td>\n",
       "      <td>Win</td>\n",
       "    </tr>\n",
       "    <tr>\n",
       "      <th>22</th>\n",
       "      <td>23</td>\n",
       "      <td>11/19/16</td>\n",
       "      <td>Virginia Tech</td>\n",
       "      <td>Home</td>\n",
       "      <td>In</td>\n",
       "      <td>NBC</td>\n",
       "      <td>Lose</td>\n",
       "    </tr>\n",
       "    <tr>\n",
       "      <th>23</th>\n",
       "      <td>24</td>\n",
       "      <td>11/26/16</td>\n",
       "      <td>USC</td>\n",
       "      <td>Away</td>\n",
       "      <td>In</td>\n",
       "      <td>ABC</td>\n",
       "      <td>Lose</td>\n",
       "    </tr>\n",
       "  </tbody>\n",
       "</table>\n",
       "</div>"
      ],
      "text/plain": [
       "    ID      Date              Opponent Is_Home_or_Away  \\\n",
       "0    1    9/5/15                 Texas            Home   \n",
       "1    2   9/12/15              Virginia            Away   \n",
       "2    3   9/19/15          Georgia Tech            Home   \n",
       "3    4   9/26/15                 UMass            Home   \n",
       "4    5   10/3/15               Clemson            Away   \n",
       "5    6  10/10/15                  Navy            Home   \n",
       "6    7  10/17/15                   USC            Home   \n",
       "7    8  10/31/15                Temple            Away   \n",
       "8    9   11/7/15                  PITT            Away   \n",
       "9   10  11/14/15           Wake Forest            Home   \n",
       "10  11  11/21/15        Boston College            Away   \n",
       "11  12  11/28/15              Stanford            Away   \n",
       "12  13    9/4/16                 Texas            Away   \n",
       "13  14   9/10/16                Nevada            Home   \n",
       "14  15   9/17/16        Michigan State            Home   \n",
       "15  16   9/24/16                  Duke            Home   \n",
       "16  17   10/1/16              Syracuse            Home   \n",
       "17  18   10/8/16  North Carolina State            Away   \n",
       "18  19  10/15/16              Stanford            Home   \n",
       "19  20  10/29/16         Miami Florida            Home   \n",
       "20  21   11/5/16                  Navy            Home   \n",
       "21  22  11/12/16                  Army            Home   \n",
       "22  23  11/19/16         Virginia Tech            Home   \n",
       "23  24  11/26/16                   USC            Away   \n",
       "\n",
       "   Is_Opponent_in_AP25_Preseason Media Label  \n",
       "0                            Out   NBC   Win  \n",
       "1                            Out   ABC   Win  \n",
       "2                             In   NBC   Win  \n",
       "3                            Out   NBC   Win  \n",
       "4                             In   ABC  Lose  \n",
       "5                            Out   NBC   Win  \n",
       "6                             In   NBC   Win  \n",
       "7                            Out   ABC   Win  \n",
       "8                            Out   ABC   Win  \n",
       "9                            Out   NBC   Win  \n",
       "10                           Out   NBC   Win  \n",
       "11                            In   FOX  Lose  \n",
       "12                           Out   ABC  Lose  \n",
       "13                           Out   NBC   Win  \n",
       "14                           Out   NBC  Lose  \n",
       "15                           Out   NBC  Lose  \n",
       "16                           Out  ESPN   Win  \n",
       "17                           Out   ABC  Lose  \n",
       "18                            In   NBC  Lose  \n",
       "19                           Out   NBC   Win  \n",
       "20                           Out   CBS  Lose  \n",
       "21                           Out   NBC   Win  \n",
       "22                            In   NBC  Lose  \n",
       "23                            In   ABC  Lose  "
      ]
     },
     "metadata": {},
     "execution_count": 191
    }
   ],
   "metadata": {}
  },
  {
   "cell_type": "markdown",
   "source": [
    "### 0.2. Load test data from file"
   ],
   "metadata": {}
  },
  {
   "cell_type": "code",
   "execution_count": 192,
   "source": [
    "dfTest = pd.read_csv(\"test.txt\", delimiter='\\t')\r\n",
    "dfTest"
   ],
   "outputs": [
    {
     "output_type": "execute_result",
     "data": {
      "text/html": [
       "<div>\n",
       "<style scoped>\n",
       "    .dataframe tbody tr th:only-of-type {\n",
       "        vertical-align: middle;\n",
       "    }\n",
       "\n",
       "    .dataframe tbody tr th {\n",
       "        vertical-align: top;\n",
       "    }\n",
       "\n",
       "    .dataframe thead th {\n",
       "        text-align: right;\n",
       "    }\n",
       "</style>\n",
       "<table border=\"1\" class=\"dataframe\">\n",
       "  <thead>\n",
       "    <tr style=\"text-align: right;\">\n",
       "      <th></th>\n",
       "      <th>ID</th>\n",
       "      <th>Date</th>\n",
       "      <th>Opponent</th>\n",
       "      <th>Is_Home_or_Away</th>\n",
       "      <th>Is_Opponent_in_AP25_Preseason</th>\n",
       "      <th>Media</th>\n",
       "      <th>Label</th>\n",
       "    </tr>\n",
       "  </thead>\n",
       "  <tbody>\n",
       "    <tr>\n",
       "      <th>0</th>\n",
       "      <td>25</td>\n",
       "      <td>9/2/17</td>\n",
       "      <td>Temple</td>\n",
       "      <td>Home</td>\n",
       "      <td>Out</td>\n",
       "      <td>NBC</td>\n",
       "      <td>Win</td>\n",
       "    </tr>\n",
       "    <tr>\n",
       "      <th>1</th>\n",
       "      <td>26</td>\n",
       "      <td>9/9/17</td>\n",
       "      <td>Georgia</td>\n",
       "      <td>Home</td>\n",
       "      <td>In</td>\n",
       "      <td>NBC</td>\n",
       "      <td>Lose</td>\n",
       "    </tr>\n",
       "    <tr>\n",
       "      <th>2</th>\n",
       "      <td>27</td>\n",
       "      <td>9/16/17</td>\n",
       "      <td>Boston College</td>\n",
       "      <td>Away</td>\n",
       "      <td>Out</td>\n",
       "      <td>ESPN</td>\n",
       "      <td>Win</td>\n",
       "    </tr>\n",
       "    <tr>\n",
       "      <th>3</th>\n",
       "      <td>28</td>\n",
       "      <td>9/23/17</td>\n",
       "      <td>Michigan State</td>\n",
       "      <td>Away</td>\n",
       "      <td>Out</td>\n",
       "      <td>FOX</td>\n",
       "      <td>Win</td>\n",
       "    </tr>\n",
       "    <tr>\n",
       "      <th>4</th>\n",
       "      <td>29</td>\n",
       "      <td>9/30/17</td>\n",
       "      <td>Miami Ohio</td>\n",
       "      <td>Home</td>\n",
       "      <td>Out</td>\n",
       "      <td>NBC</td>\n",
       "      <td>Win</td>\n",
       "    </tr>\n",
       "    <tr>\n",
       "      <th>5</th>\n",
       "      <td>30</td>\n",
       "      <td>10/7/17</td>\n",
       "      <td>North Carolina</td>\n",
       "      <td>Away</td>\n",
       "      <td>Out</td>\n",
       "      <td>ABC</td>\n",
       "      <td>Win</td>\n",
       "    </tr>\n",
       "    <tr>\n",
       "      <th>6</th>\n",
       "      <td>31</td>\n",
       "      <td>10/21/17</td>\n",
       "      <td>USC</td>\n",
       "      <td>Home</td>\n",
       "      <td>In</td>\n",
       "      <td>NBC</td>\n",
       "      <td>Win</td>\n",
       "    </tr>\n",
       "    <tr>\n",
       "      <th>7</th>\n",
       "      <td>32</td>\n",
       "      <td>10/28/17</td>\n",
       "      <td>North Carolina State</td>\n",
       "      <td>Home</td>\n",
       "      <td>Out</td>\n",
       "      <td>NBC</td>\n",
       "      <td>Win</td>\n",
       "    </tr>\n",
       "    <tr>\n",
       "      <th>8</th>\n",
       "      <td>33</td>\n",
       "      <td>11/4/17</td>\n",
       "      <td>Wake Forest</td>\n",
       "      <td>Home</td>\n",
       "      <td>Out</td>\n",
       "      <td>NBC</td>\n",
       "      <td>Win</td>\n",
       "    </tr>\n",
       "    <tr>\n",
       "      <th>9</th>\n",
       "      <td>34</td>\n",
       "      <td>11/11/17</td>\n",
       "      <td>Miami Florida</td>\n",
       "      <td>Away</td>\n",
       "      <td>In</td>\n",
       "      <td>ABC</td>\n",
       "      <td>Lose</td>\n",
       "    </tr>\n",
       "    <tr>\n",
       "      <th>10</th>\n",
       "      <td>35</td>\n",
       "      <td>11/18/17</td>\n",
       "      <td>Navy</td>\n",
       "      <td>Home</td>\n",
       "      <td>Out</td>\n",
       "      <td>NBC</td>\n",
       "      <td>Win</td>\n",
       "    </tr>\n",
       "    <tr>\n",
       "      <th>11</th>\n",
       "      <td>36</td>\n",
       "      <td>11/25/17</td>\n",
       "      <td>Stanford</td>\n",
       "      <td>Away</td>\n",
       "      <td>In</td>\n",
       "      <td>ABC</td>\n",
       "      <td>Lose</td>\n",
       "    </tr>\n",
       "  </tbody>\n",
       "</table>\n",
       "</div>"
      ],
      "text/plain": [
       "    ID      Date              Opponent Is_Home_or_Away  \\\n",
       "0   25    9/2/17                Temple            Home   \n",
       "1   26    9/9/17               Georgia            Home   \n",
       "2   27   9/16/17        Boston College            Away   \n",
       "3   28   9/23/17        Michigan State            Away   \n",
       "4   29   9/30/17            Miami Ohio            Home   \n",
       "5   30   10/7/17        North Carolina            Away   \n",
       "6   31  10/21/17                   USC            Home   \n",
       "7   32  10/28/17  North Carolina State            Home   \n",
       "8   33   11/4/17           Wake Forest            Home   \n",
       "9   34  11/11/17         Miami Florida            Away   \n",
       "10  35  11/18/17                  Navy            Home   \n",
       "11  36  11/25/17              Stanford            Away   \n",
       "\n",
       "   Is_Opponent_in_AP25_Preseason Media Label  \n",
       "0                            Out   NBC   Win  \n",
       "1                             In   NBC  Lose  \n",
       "2                            Out  ESPN   Win  \n",
       "3                            Out   FOX   Win  \n",
       "4                            Out   NBC   Win  \n",
       "5                            Out   ABC   Win  \n",
       "6                             In   NBC   Win  \n",
       "7                            Out   NBC   Win  \n",
       "8                            Out   NBC   Win  \n",
       "9                             In   ABC  Lose  \n",
       "10                           Out   NBC   Win  \n",
       "11                            In   ABC  Lose  "
      ]
     },
     "metadata": {},
     "execution_count": 192
    }
   ],
   "metadata": {}
  },
  {
   "cell_type": "markdown",
   "source": [
    "### 0.3. Find feature names"
   ],
   "metadata": {}
  },
  {
   "cell_type": "code",
   "execution_count": 193,
   "source": [
    "featureNames = dfTrain.columns[3:-1] # Skip \"ID\", \"Date\", \"Opponent\"; and \"Label\"\r\n",
    "nFeatures = featureNames.shape[0]\r\n",
    "print(\"Number of features:\", nFeatures)\r\n",
    "featureNames"
   ],
   "outputs": [
    {
     "output_type": "stream",
     "name": "stdout",
     "text": [
      "Number of features: 3\n"
     ]
    },
    {
     "output_type": "execute_result",
     "data": {
      "text/plain": [
       "Index(['Is_Home_or_Away', 'Is_Opponent_in_AP25_Preseason', 'Media'], dtype='object')"
      ]
     },
     "metadata": {},
     "execution_count": 193
    }
   ],
   "metadata": {}
  },
  {
   "cell_type": "markdown",
   "source": [
    "### 0.4. Select training instances (feature values and label) from training data"
   ],
   "metadata": {}
  },
  {
   "cell_type": "code",
   "execution_count": 194,
   "source": [
    "trainingInstances = []\r\n",
    "for instance in dfTrain.to_numpy():\r\n",
    "    featureValues = list(instance[3:-1])\r\n",
    "    label = instance[-1]\r\n",
    "    trainingInstances.append([featureValues,label])\r\n",
    "nTrainingInstances = len(trainingInstances)\r\n",
    "print(\"Number of training instances:\", nTrainingInstances)\r\n",
    "trainingInstances"
   ],
   "outputs": [
    {
     "output_type": "stream",
     "name": "stdout",
     "text": [
      "Number of training instances: 24\n"
     ]
    },
    {
     "output_type": "execute_result",
     "data": {
      "text/plain": [
       "[[['Home', 'Out', 'NBC'], 'Win'],\n",
       " [['Away', 'Out', 'ABC'], 'Win'],\n",
       " [['Home', 'In', 'NBC'], 'Win'],\n",
       " [['Home', 'Out', 'NBC'], 'Win'],\n",
       " [['Away', 'In', 'ABC'], 'Lose'],\n",
       " [['Home', 'Out', 'NBC'], 'Win'],\n",
       " [['Home', 'In', 'NBC'], 'Win'],\n",
       " [['Away', 'Out', 'ABC'], 'Win'],\n",
       " [['Away', 'Out', 'ABC'], 'Win'],\n",
       " [['Home', 'Out', 'NBC'], 'Win'],\n",
       " [['Away', 'Out', 'NBC'], 'Win'],\n",
       " [['Away', 'In', 'FOX'], 'Lose'],\n",
       " [['Away', 'Out', 'ABC'], 'Lose'],\n",
       " [['Home', 'Out', 'NBC'], 'Win'],\n",
       " [['Home', 'Out', 'NBC'], 'Lose'],\n",
       " [['Home', 'Out', 'NBC'], 'Lose'],\n",
       " [['Home', 'Out', 'ESPN'], 'Win'],\n",
       " [['Away', 'Out', 'ABC'], 'Lose'],\n",
       " [['Home', 'In', 'NBC'], 'Lose'],\n",
       " [['Home', 'Out', 'NBC'], 'Win'],\n",
       " [['Home', 'Out', 'CBS'], 'Lose'],\n",
       " [['Home', 'Out', 'NBC'], 'Win'],\n",
       " [['Home', 'In', 'NBC'], 'Lose'],\n",
       " [['Away', 'In', 'ABC'], 'Lose']]"
      ]
     },
     "metadata": {},
     "execution_count": 194
    }
   ],
   "metadata": {}
  },
  {
   "cell_type": "markdown",
   "source": [
    "### 0.5. Select test instances from test data"
   ],
   "metadata": {}
  },
  {
   "cell_type": "code",
   "execution_count": 195,
   "source": [
    "testInstances = []\r\n",
    "for instance in dfTest.to_numpy():\r\n",
    "    featureValues = list(instance[3:-1])\r\n",
    "    label = instance[-1]\r\n",
    "    testInstances.append([featureValues,label])\r\n",
    "nTestInstances = len(testInstances)\r\n",
    "print(\"Number of test instances:\", nTestInstances)\r\n",
    "testInstances"
   ],
   "outputs": [
    {
     "output_type": "stream",
     "name": "stdout",
     "text": [
      "Number of test instances: 12\n"
     ]
    },
    {
     "output_type": "execute_result",
     "data": {
      "text/plain": [
       "[[['Home', 'Out', 'NBC'], 'Win'],\n",
       " [['Home', 'In', 'NBC'], 'Lose'],\n",
       " [['Away', 'Out', 'ESPN'], 'Win'],\n",
       " [['Away', 'Out', 'FOX'], 'Win'],\n",
       " [['Home', 'Out', 'NBC'], 'Win'],\n",
       " [['Away', 'Out', 'ABC'], 'Win'],\n",
       " [['Home', 'In', 'NBC'], 'Win'],\n",
       " [['Home', 'Out', 'NBC'], 'Win'],\n",
       " [['Home', 'Out', 'NBC'], 'Win'],\n",
       " [['Away', 'In', 'ABC'], 'Lose'],\n",
       " [['Home', 'Out', 'NBC'], 'Win'],\n",
       " [['Away', 'In', 'ABC'], 'Lose']]"
      ]
     },
     "metadata": {},
     "execution_count": 195
    }
   ],
   "metadata": {}
  },
  {
   "cell_type": "markdown",
   "source": [
    "## 1. ID3 model using Information Gain"
   ],
   "metadata": {}
  },
  {
   "cell_type": "markdown",
   "source": [
    "### 1.1. Define information entropy function by distribution of value frequencies"
   ],
   "metadata": {}
  },
  {
   "cell_type": "code",
   "execution_count": 196,
   "source": [
    "import math\r\n",
    "import numpy as np\r\n",
    "\r\n",
    "# Examples:\r\n",
    "# Suppose distr_freq = [2, 2, 2]. Should return -1/3*log_2(1/3) * 3 = 1.585.\r\n",
    "# Suppose distr_freq = [6, 0, 0, 0, 0]. Should return 0.\r\n",
    "def Entropy(distr_freq):\r\n",
    "    \r\n",
    "    ret = 0.0\r\n",
    "    \r\n",
    "    ### TODO 1: ret = ________________ ###\r\n",
    "\r\n",
    "    total = sum(distr_freq)\r\n",
    "    for x in distr_freq:\r\n",
    "        prob = x / total\r\n",
    "        if prob == 0:\r\n",
    "            continue\r\n",
    "        ret += prob * math.log2(prob)\r\n",
    "\r\n",
    "    return -ret"
   ],
   "outputs": [],
   "metadata": {}
  },
  {
   "cell_type": "markdown",
   "source": [
    "### 1.2. Define Information Gain function by a set of instances and a particular feature"
   ],
   "metadata": {}
  },
  {
   "cell_type": "code",
   "execution_count": 197,
   "source": [
    "# Given a set of instances [instanceIDs] at the node,\r\n",
    "# find the information gain if the node is split by the values of feature [featureID].\r\n",
    "def IG(instanceIDs, featureID):\r\n",
    "    \r\n",
    "    label2freq, value2label2freq = {}, {}\r\n",
    "    \r\n",
    "    for instanceID in instanceIDs:\r\n",
    "        featureValues, label = trainingInstances[instanceID]\r\n",
    "        \r\n",
    "        if not label in label2freq:\r\n",
    "            label2freq[label] = 0\r\n",
    "        label2freq[label] += 1\r\n",
    "        \r\n",
    "        featureValue = featureValues[featureID]\r\n",
    "        \r\n",
    "        if not featureValue in value2label2freq:\r\n",
    "            value2label2freq[featureValue] = {}\r\n",
    "        if not label in value2label2freq[featureValue]:\r\n",
    "            value2label2freq[featureValue][label] = 0\r\n",
    "        value2label2freq[featureValue][label] += 1\r\n",
    "        \r\n",
    "    N = len(instanceIDs)\r\n",
    "    \r\n",
    "    distr_freq = []\r\n",
    "    for label,freq in label2freq.items():\r\n",
    "        distr_freq.append(freq)\r\n",
    "        \r\n",
    "    # This is the information entropy at the node H(Y)\r\n",
    "    H_Y = Entropy(distr_freq)\r\n",
    "    \r\n",
    "    H_Y_cond_X = 0.0\r\n",
    "    for value, label2freq in value2label2freq.items():\r\n",
    "        distr_freq = []\r\n",
    "        for label, freq in label2freq.items():\r\n",
    "            distr_freq.append(freq)\r\n",
    "        # for each value of the feature [featureID],\r\n",
    "        # calculate the conditional entropy H(Y|X) at the child nodes (if the node is split by X)\r\n",
    "        \r\n",
    "        ### TODO 2: H_Y_cond_X = ________________ ###\r\n",
    "\r\n",
    "        H_Y_cond_X += (sum(distr_freq) / N) * Entropy(distr_freq)\r\n",
    "        \r\n",
    "    return H_Y - H_Y_cond_X"
   ],
   "outputs": [],
   "metadata": {}
  },
  {
   "cell_type": "markdown",
   "source": [
    "### 1.3. Define Gain Ratio function by a set of instances and a particular feature"
   ],
   "metadata": {}
  },
  {
   "cell_type": "code",
   "execution_count": 198,
   "source": [
    "def GainRatio(instanceIDs, featureID):\r\n",
    "    \r\n",
    "    ret = IG(instanceIDs, featureID)\r\n",
    "    if ret == 0: return ret\r\n",
    "    \r\n",
    "    # calculate the splitInfo to calculate Gain Ratio based on Information Gain\r\n",
    "    \r\n",
    "    ### TODO 3: splitInfo = ________________ ###\r\n",
    "    featureValDict = {}\r\n",
    "\r\n",
    "    for instanceID in instanceIDs:\r\n",
    "        featureValues, label = trainingInstances[instanceID]\r\n",
    "\r\n",
    "        featureValue = featureValues[featureID]\r\n",
    "        if featureValue in featureValDict:\r\n",
    "            featureValDict[featureValue] += 1\r\n",
    "        else:\r\n",
    "            featureValDict[featureValue] = 1\r\n",
    "    \r\n",
    "    feature_freq = list(featureValDict.values())\r\n",
    "    splitInfo = Entropy(feature_freq)\r\n",
    "    \r\n",
    "    return ret/splitInfo\r\n"
   ],
   "outputs": [],
   "metadata": {}
  },
  {
   "cell_type": "markdown",
   "source": [
    "### 1.4. Define a function (an iterative algorithm) to construct a decision tree"
   ],
   "metadata": {}
  },
  {
   "cell_type": "markdown",
   "source": [
    "A decision tree node has the following components:\r\n",
    "\r\n",
    "**instanceIDs**: the set of training instances on the node;\r\n",
    "    \r\n",
    "**featureIDs**: the set of available features for splitting; those that are not in this set have been used on the path from the root node to this node;\r\n",
    "    \r\n",
    "**level**: the node is at which level of the tree; 0 is for root node;\r\n",
    "    \r\n",
    "**subTree**: its child nodes (sub-trees) formed by the best feature;\r\n",
    "    \r\n",
    "**bestFeatureID**: the best feature for splitting into child nodes;\r\n",
    "    \r\n",
    "**majorityLabel**: the decision on this node (the most frequent label of the instances on this node);\r\n",
    "    \r\n",
    "**parentMajorityLabel**: the decision on this node's parent."
   ],
   "metadata": {}
  },
  {
   "cell_type": "code",
   "execution_count": 199,
   "source": [
    "def ConstructDecisionTree(tree, modelName):\r\n",
    "\r\n",
    "    instanceIDs, featureIDs, level, _, _, _, parentMajorityLabel = tree\r\n",
    "\r\n",
    "    # Calculate the distribution of label frequencies on this node\r\n",
    "    label2freq = {}\r\n",
    "    for instanceID in instanceIDs:\r\n",
    "        label = trainingInstances[instanceID][1]\r\n",
    "        if not label in label2freq:\r\n",
    "            label2freq[label] = 0\r\n",
    "        label2freq[label] += 1\r\n",
    "    # Sort the label frequencies from the highest to lowest\r\n",
    "    label_freq = sorted(label2freq.items(), key=lambda x:-x[1])\r\n",
    "    \r\n",
    "    # Determine the decision on this node\r\n",
    "    majorityLabel = label_freq[0][0]\r\n",
    "    # When there are multiple labels that have the highest frequency - use the decision on the parent node.\r\n",
    "    if len(label_freq) > 1 and label_freq[0][1] == label_freq[1][1]:\r\n",
    "        majorityLabel = parentMajorityLabel\r\n",
    "    # Set the [majorityLabel]\r\n",
    "    tree[5] = majorityLabel\r\n",
    "    print(\" \"*level, \"Decision:\", majorityLabel, \"<--\", label_freq)\r\n",
    "    \r\n",
    "    if len(label_freq) == 1: return\r\n",
    "    if len(featureIDs) == 0: return\r\n",
    "\r\n",
    "    # Calculate the score of splitting criterion\r\n",
    "    # for each feature [featureID]\r\n",
    "    featureID2criterionScore = {}\r\n",
    "    for featureID in featureIDs:\r\n",
    "        if modelName == \"ID3\":\r\n",
    "            ### TODO 4: criterionScore = ________________ ###\r\n",
    "            criterionScore = IG(instanceIDs, featureID)\r\n",
    "        elif modelName == \"C4.5\":\r\n",
    "            ### TODO 5: criterionScore = ________________ ###\r\n",
    "            criterionScore = GainRatio(instanceIDs, featureID)\r\n",
    "        featureID2criterionScore[featureID] = criterionScore\r\n",
    "    # Sort the feature's criterion score from the highest to lowest\r\n",
    "    featureID_criterionScore = sorted(featureID2criterionScore.items(), key=lambda x:-x[1])\r\n",
    "    \r\n",
    "    # Find the best feature and the best criterion score\r\n",
    "    bestFeatureID = featureID_criterionScore[0][0]\r\n",
    "    bestCriterionScore = featureID_criterionScore[0][1]\r\n",
    "    \r\n",
    "    # Terminate when there is not effective feature\r\n",
    "    if bestCriterionScore == 0.0: return\r\n",
    "    \r\n",
    "    tree[4] = bestFeatureID\r\n",
    "\r\n",
    "    # Remove the best feature from feature candidates for the sub-trees\r\n",
    "    subFeatureIDs = set()\r\n",
    "    for featureID in featureIDs:\r\n",
    "        if featureID == bestFeatureID: continue\r\n",
    "        subFeatureIDs.add(featureID)\r\n",
    "    \r\n",
    "    # Go to the next level: Splitting the node into child nodes (i.e., sub-trees)\r\n",
    "    level += 1\r\n",
    "    value2subInstanceIDs = {}\r\n",
    "    for instanceID in instanceIDs:\r\n",
    "        value = trainingInstances[instanceID][0][bestFeatureID]\r\n",
    "        if not value in value2subInstanceIDs:\r\n",
    "            value2subInstanceIDs[value] = set()\r\n",
    "        value2subInstanceIDs[value].add(instanceID)\r\n",
    "        \r\n",
    "    for value,subInstanceIDs in value2subInstanceIDs.items():\r\n",
    "        tree[3][value] = [subInstanceIDs, subFeatureIDs, level, {}, None, None, majorityLabel]\r\n",
    "        print(\" \"*level, \"Level\", level, \"=>\", featureNames[bestFeatureID], \":\", value,\r\n",
    "              \"( criterion:\", np.round(bestCriterionScore, 4), \")\")\r\n",
    "        ConstructDecisionTree(tree[3][value], modelName)"
   ],
   "outputs": [],
   "metadata": {}
  },
  {
   "cell_type": "markdown",
   "source": [
    "### 1.5. Construct an ID3 tree from the root node"
   ],
   "metadata": {}
  },
  {
   "cell_type": "code",
   "execution_count": 200,
   "source": [
    "tree = [set(range(nTrainingInstances)), set(range(nFeatures)), 0, {}, None, None, None]\r\n",
    "print(\"Level\", 0)\r\n",
    "ConstructDecisionTree(tree, \"ID3\")"
   ],
   "outputs": [
    {
     "output_type": "stream",
     "name": "stdout",
     "text": [
      "Level 0\n",
      " Decision: Win <-- [('Win', 14), ('Lose', 10)]\n",
      "  Level 1 => Media : NBC ( criterion: 0.189 )\n",
      "  Decision: Win <-- [('Win', 10), ('Lose', 4)]\n",
      "   Level 2 => Is_Opponent_in_AP25_Preseason : Out ( criterion: 0.0617 )\n",
      "   Decision: Win <-- [('Win', 8), ('Lose', 2)]\n",
      "    Level 3 => Is_Home_or_Away : Home ( criterion: 0.0341 )\n",
      "    Decision: Win <-- [('Win', 7), ('Lose', 2)]\n",
      "    Level 3 => Is_Home_or_Away : Away ( criterion: 0.0341 )\n",
      "    Decision: Win <-- [('Win', 1)]\n",
      "   Level 2 => Is_Opponent_in_AP25_Preseason : In ( criterion: 0.0617 )\n",
      "   Decision: Win <-- [('Win', 2), ('Lose', 2)]\n",
      "  Level 1 => Media : ABC ( criterion: 0.189 )\n",
      "  Decision: Lose <-- [('Lose', 4), ('Win', 3)]\n",
      "   Level 2 => Is_Opponent_in_AP25_Preseason : Out ( criterion: 0.2917 )\n",
      "   Decision: Win <-- [('Win', 3), ('Lose', 2)]\n",
      "   Level 2 => Is_Opponent_in_AP25_Preseason : In ( criterion: 0.2917 )\n",
      "   Decision: Lose <-- [('Lose', 2)]\n",
      "  Level 1 => Media : FOX ( criterion: 0.189 )\n",
      "  Decision: Lose <-- [('Lose', 1)]\n",
      "  Level 1 => Media : ESPN ( criterion: 0.189 )\n",
      "  Decision: Win <-- [('Win', 1)]\n",
      "  Level 1 => Media : CBS ( criterion: 0.189 )\n",
      "  Decision: Lose <-- [('Lose', 1)]\n"
     ]
    }
   ],
   "metadata": {}
  },
  {
   "cell_type": "markdown",
   "source": [
    "### 1.6. Define a function to traverse the decision tree"
   ],
   "metadata": {}
  },
  {
   "cell_type": "code",
   "execution_count": 201,
   "source": [
    "def Traverse(tree):\r\n",
    "    \r\n",
    "    instanceIDs, featureIDs, level, subTree, bestFeatureID, majorityLabel, parentMajorityLabel = tree\r\n",
    "    print(\"\\t\"*level, \"Level\", level, \"(\", majorityLabel, \")\")\r\n",
    "    \r\n",
    "    if tree[4] == None: return\r\n",
    "    \r\n",
    "    print(\"\\t\"*level, featureNames[bestFeatureID], \":\")\r\n",
    "    \r\n",
    "    for value, branch in sorted(subTree.items(), key=lambda x:x[0]):\r\n",
    "        print(\"\\t\"*level, value)\r\n",
    "        Traverse(branch)"
   ],
   "outputs": [],
   "metadata": {}
  },
  {
   "cell_type": "markdown",
   "source": [
    "### 1.7. Traverse the ID3 tree from the root node"
   ],
   "metadata": {}
  },
  {
   "cell_type": "code",
   "execution_count": 202,
   "source": [
    "Traverse(tree)"
   ],
   "outputs": [
    {
     "output_type": "stream",
     "name": "stdout",
     "text": [
      " Level 0 ( Win )\n",
      " Media :\n",
      " ABC\n",
      "\t Level 1 ( Lose )\n",
      "\t Is_Opponent_in_AP25_Preseason :\n",
      "\t In\n",
      "\t\t Level 2 ( Lose )\n",
      "\t Out\n",
      "\t\t Level 2 ( Win )\n",
      " CBS\n",
      "\t Level 1 ( Lose )\n",
      " ESPN\n",
      "\t Level 1 ( Win )\n",
      " FOX\n",
      "\t Level 1 ( Lose )\n",
      " NBC\n",
      "\t Level 1 ( Win )\n",
      "\t Is_Opponent_in_AP25_Preseason :\n",
      "\t In\n",
      "\t\t Level 2 ( Win )\n",
      "\t Out\n",
      "\t\t Level 2 ( Win )\n",
      "\t\t Is_Home_or_Away :\n",
      "\t\t Away\n",
      "\t\t\t Level 3 ( Win )\n",
      "\t\t Home\n",
      "\t\t\t Level 3 ( Win )\n"
     ]
    }
   ],
   "metadata": {}
  },
  {
   "cell_type": "markdown",
   "source": [
    "### 1.8. Define a function to predict the label based on features using the decision tree"
   ],
   "metadata": {}
  },
  {
   "cell_type": "code",
   "execution_count": 203,
   "source": [
    "def Predict(tree, featureValues):\r\n",
    "    \r\n",
    "    instanceIDs, featureIDs, level, subTree, bestFeatureID, majorityLabel, parentMajorityLabel = tree\r\n",
    "    if tree[4] == None: return majorityLabel\r\n",
    "    \r\n",
    "    value = featureValues[bestFeatureID]\r\n",
    "    \r\n",
    "    if not value in subTree: return majorityLabel\r\n",
    "    return Predict(subTree[value], featureValues)"
   ],
   "outputs": [],
   "metadata": {}
  },
  {
   "cell_type": "markdown",
   "source": [
    "### 1.9. Define a function to make prediction for each test instance in the set and calculate the Confusion Matrix"
   ],
   "metadata": {}
  },
  {
   "cell_type": "code",
   "execution_count": 204,
   "source": [
    "def GetConfusionMatrix(testInstances):\r\n",
    "    \r\n",
    "    TP, FP, TN, FN = 0, 0, 0, 0\r\n",
    "\r\n",
    "    for featureValues, truthLabel in testInstances:\r\n",
    "\r\n",
    "        predictLabel = Predict(tree, featureValues)\r\n",
    "\r\n",
    "        print(featureValues, \"Actual label:\", truthLabel, \"| Predicted label:\", predictLabel)\r\n",
    "\r\n",
    "        ### TODO 6: ###\r\n",
    "        ### if ________________: TP += 1 ###\r\n",
    "        ### if ________________: FP += 1 ###\r\n",
    "        ### if ________________: FN += 1 ###\r\n",
    "        ### if ________________: TN += 1 ###\r\n",
    "\r\n",
    "        if truthLabel == \"Win\" and predictLabel == \"Win\":\r\n",
    "            TP += 1\r\n",
    "        elif truthLabel == \"Win\" and predictLabel == \"Lose\":\r\n",
    "            FN += 1\r\n",
    "        elif truthLabel == \"Lose\" and predictLabel == \"Win\":\r\n",
    "            FP += 1\r\n",
    "        elif truthLabel == \"Lose\" and predictLabel == \"Lose\":\r\n",
    "            TN += 1\r\n",
    "        \r\n",
    "    return TP, FP, TN, FN\r\n"
   ],
   "outputs": [],
   "metadata": {}
  },
  {
   "cell_type": "markdown",
   "source": [
    "### 1.10. Make prediction with ID3 and find the Confusion Matrix"
   ],
   "metadata": {}
  },
  {
   "cell_type": "code",
   "execution_count": 205,
   "source": [
    "TP, FP, TN, FN = GetConfusionMatrix(testInstances)"
   ],
   "outputs": [
    {
     "output_type": "stream",
     "name": "stdout",
     "text": [
      "['Home', 'Out', 'NBC'] Actual label: Win | Predicted label: Win\n",
      "['Home', 'In', 'NBC'] Actual label: Lose | Predicted label: Win\n",
      "['Away', 'Out', 'ESPN'] Actual label: Win | Predicted label: Win\n",
      "['Away', 'Out', 'FOX'] Actual label: Win | Predicted label: Lose\n",
      "['Home', 'Out', 'NBC'] Actual label: Win | Predicted label: Win\n",
      "['Away', 'Out', 'ABC'] Actual label: Win | Predicted label: Win\n",
      "['Home', 'In', 'NBC'] Actual label: Win | Predicted label: Win\n",
      "['Home', 'Out', 'NBC'] Actual label: Win | Predicted label: Win\n",
      "['Home', 'Out', 'NBC'] Actual label: Win | Predicted label: Win\n",
      "['Away', 'In', 'ABC'] Actual label: Lose | Predicted label: Lose\n",
      "['Home', 'Out', 'NBC'] Actual label: Win | Predicted label: Win\n",
      "['Away', 'In', 'ABC'] Actual label: Lose | Predicted label: Lose\n"
     ]
    }
   ],
   "metadata": {
    "scrolled": true
   }
  },
  {
   "cell_type": "markdown",
   "source": [
    "### 1.11. Define a function to calcualte Accuracy, Precision, Recall, and F1 score based on the Confusion Matrix"
   ],
   "metadata": {}
  },
  {
   "cell_type": "code",
   "execution_count": 206,
   "source": [
    "def GetMetrics(TP, FP, TN, FN):\r\n",
    "    print(\"Confusion matrix:\")\r\n",
    "    print(\"\\t\", \"-\"*15)\r\n",
    "    print(\"\\t\", \"| TP\", TP, \"| FN\", FN, \"|\")\r\n",
    "    print(\"\\t\", \"| FP\", FP, \"| TN\", TN, \"|\")\r\n",
    "    print(\"\\t\", \"-\"*15)\r\n",
    "\r\n",
    "    accuracy = 1.0*(TP+TN) / nTestInstances\r\n",
    "    ### TODO 7: ###\r\n",
    "    ### precision = ________________ ###\r\n",
    "    ### recall = ________________ ###\r\n",
    "    ### f1 = ________________ ###\r\n",
    "    precision = TP / (TP + FP)\r\n",
    "    recall = TP / (TP + FN)\r\n",
    "    f1 = 2 * precision * recall / (precision + recall)\r\n",
    "\r\n",
    "    print(\"Accuracy:\", np.round(accuracy, 4))\r\n",
    "    print(\"Precision:\", np.round(precision, 4))\r\n",
    "    print(\"Recall:\", np.round(recall, 4))\r\n",
    "    print(\"F1:\", np.round(f1, 4))"
   ],
   "outputs": [],
   "metadata": {}
  },
  {
   "cell_type": "markdown",
   "source": [
    "### 1.12. Calculate Accuracy, Precision, Recall, and F1 score"
   ],
   "metadata": {}
  },
  {
   "cell_type": "code",
   "execution_count": 207,
   "source": [
    "GetMetrics(TP, FP, TN, FN)"
   ],
   "outputs": [
    {
     "output_type": "stream",
     "name": "stdout",
     "text": [
      "Confusion matrix:\n",
      "\t ---------------\n",
      "\t | TP 8 | FN 1 |\n",
      "\t | FP 1 | TN 2 |\n",
      "\t ---------------\n",
      "Accuracy: 0.8333\n",
      "Precision: 0.8889\n",
      "Recall: 0.8889\n",
      "F1: 0.8889\n"
     ]
    }
   ],
   "metadata": {}
  },
  {
   "cell_type": "markdown",
   "source": [
    "## 2. C4.5 model using Gain Ratio"
   ],
   "metadata": {}
  },
  {
   "cell_type": "markdown",
   "source": [
    "### 2.1. Construct a C4.5 tree from the root node"
   ],
   "metadata": {}
  },
  {
   "cell_type": "code",
   "execution_count": 208,
   "source": [
    "tree = [set(range(nTrainingInstances)), set(range(nFeatures)), 0, {}, None, None, None]\r\n",
    "print(\"Level\", 0)\r\n",
    "ConstructDecisionTree(tree, \"C4.5\")"
   ],
   "outputs": [
    {
     "output_type": "stream",
     "name": "stdout",
     "text": [
      "Level 0\n",
      " Decision: Win <-- [('Win', 14), ('Lose', 10)]\n",
      "  Level 1 => Is_Opponent_in_AP25_Preseason : Out ( criterion: 0.1252 )\n",
      "  Decision: Win <-- [('Win', 12), ('Lose', 5)]\n",
      "   Level 2 => Media : NBC ( criterion: 0.1129 )\n",
      "   Decision: Win <-- [('Win', 8), ('Lose', 2)]\n",
      "    Level 3 => Is_Home_or_Away : Home ( criterion: 0.0728 )\n",
      "    Decision: Win <-- [('Win', 7), ('Lose', 2)]\n",
      "    Level 3 => Is_Home_or_Away : Away ( criterion: 0.0728 )\n",
      "    Decision: Win <-- [('Win', 1)]\n",
      "   Level 2 => Media : ABC ( criterion: 0.1129 )\n",
      "   Decision: Win <-- [('Win', 3), ('Lose', 2)]\n",
      "   Level 2 => Media : ESPN ( criterion: 0.1129 )\n",
      "   Decision: Win <-- [('Win', 1)]\n",
      "   Level 2 => Media : CBS ( criterion: 0.1129 )\n",
      "   Decision: Lose <-- [('Lose', 1)]\n",
      "  Level 1 => Is_Opponent_in_AP25_Preseason : In ( criterion: 0.1252 )\n",
      "  Decision: Lose <-- [('Lose', 5), ('Win', 2)]\n",
      "   Level 2 => Is_Home_or_Away : Home ( criterion: 0.2961 )\n",
      "   Decision: Lose <-- [('Win', 2), ('Lose', 2)]\n",
      "   Level 2 => Is_Home_or_Away : Away ( criterion: 0.2961 )\n",
      "   Decision: Lose <-- [('Lose', 3)]\n"
     ]
    }
   ],
   "metadata": {}
  },
  {
   "cell_type": "markdown",
   "source": [
    "### 2.2. Traverse the C4.5 tree from the root node"
   ],
   "metadata": {}
  },
  {
   "cell_type": "code",
   "execution_count": 209,
   "source": [
    "Traverse(tree)"
   ],
   "outputs": [
    {
     "output_type": "stream",
     "name": "stdout",
     "text": [
      " Level 0 ( Win )\n",
      " Is_Opponent_in_AP25_Preseason :\n",
      " In\n",
      "\t Level 1 ( Lose )\n",
      "\t Is_Home_or_Away :\n",
      "\t Away\n",
      "\t\t Level 2 ( Lose )\n",
      "\t Home\n",
      "\t\t Level 2 ( Lose )\n",
      " Out\n",
      "\t Level 1 ( Win )\n",
      "\t Media :\n",
      "\t ABC\n",
      "\t\t Level 2 ( Win )\n",
      "\t CBS\n",
      "\t\t Level 2 ( Lose )\n",
      "\t ESPN\n",
      "\t\t Level 2 ( Win )\n",
      "\t NBC\n",
      "\t\t Level 2 ( Win )\n",
      "\t\t Is_Home_or_Away :\n",
      "\t\t Away\n",
      "\t\t\t Level 3 ( Win )\n",
      "\t\t Home\n",
      "\t\t\t Level 3 ( Win )\n"
     ]
    }
   ],
   "metadata": {}
  },
  {
   "cell_type": "markdown",
   "source": [
    "### 2.3. Make prediction with C4.5 and find the Confusion Matrix"
   ],
   "metadata": {}
  },
  {
   "cell_type": "code",
   "execution_count": 210,
   "source": [
    "TP, FP, TN, FN = GetConfusionMatrix(testInstances)"
   ],
   "outputs": [
    {
     "output_type": "stream",
     "name": "stdout",
     "text": [
      "['Home', 'Out', 'NBC'] Actual label: Win | Predicted label: Win\n",
      "['Home', 'In', 'NBC'] Actual label: Lose | Predicted label: Lose\n",
      "['Away', 'Out', 'ESPN'] Actual label: Win | Predicted label: Win\n",
      "['Away', 'Out', 'FOX'] Actual label: Win | Predicted label: Win\n",
      "['Home', 'Out', 'NBC'] Actual label: Win | Predicted label: Win\n",
      "['Away', 'Out', 'ABC'] Actual label: Win | Predicted label: Win\n",
      "['Home', 'In', 'NBC'] Actual label: Win | Predicted label: Lose\n",
      "['Home', 'Out', 'NBC'] Actual label: Win | Predicted label: Win\n",
      "['Home', 'Out', 'NBC'] Actual label: Win | Predicted label: Win\n",
      "['Away', 'In', 'ABC'] Actual label: Lose | Predicted label: Lose\n",
      "['Home', 'Out', 'NBC'] Actual label: Win | Predicted label: Win\n",
      "['Away', 'In', 'ABC'] Actual label: Lose | Predicted label: Lose\n"
     ]
    }
   ],
   "metadata": {}
  },
  {
   "cell_type": "markdown",
   "source": [
    "### 2.4. Calculate Accuracy, Precision, Recall, and F1 score"
   ],
   "metadata": {}
  },
  {
   "cell_type": "code",
   "execution_count": 211,
   "source": [
    "GetMetrics(TP, FP, TN, FN)"
   ],
   "outputs": [
    {
     "output_type": "stream",
     "name": "stdout",
     "text": [
      "Confusion matrix:\n",
      "\t ---------------\n",
      "\t | TP 8 | FN 1 |\n",
      "\t | FP 0 | TN 3 |\n",
      "\t ---------------\n",
      "Accuracy: 0.9167\n",
      "Precision: 1.0\n",
      "Recall: 0.8889\n",
      "F1: 0.9412\n"
     ]
    }
   ],
   "metadata": {}
  },
  {
   "cell_type": "markdown",
   "source": [
    "## 3. Naive Bayes with NO zero correction"
   ],
   "metadata": {}
  },
  {
   "cell_type": "markdown",
   "source": [
    "### 3.1. Calculate frequency distribution of (a) labels and (b) feature values under a particular label, in the training data."
   ],
   "metadata": {}
  },
  {
   "cell_type": "code",
   "execution_count": 212,
   "source": [
    "label2freq = {}\r\n",
    "label2value2freq_list = [{} for i in range(nFeatures)]\r\n",
    "\r\n",
    "for instanceID in range(nTrainingInstances):\r\n",
    "    \r\n",
    "    featureValues,label = trainingInstances[instanceID]\r\n",
    "    if not label in label2freq:\r\n",
    "        label2freq[label] = 0\r\n",
    "    label2freq[label] += 1\r\n",
    "    \r\n",
    "    for featureID in range(nFeatures):\r\n",
    "        value = featureValues[featureID]        \r\n",
    "        if not label in label2value2freq_list[featureID]:\r\n",
    "            label2value2freq_list[featureID][label] = {}\r\n",
    "        if not value in label2value2freq_list[featureID][label]:\r\n",
    "            label2value2freq_list[featureID][label][value] = 0\r\n",
    "        label2value2freq_list[featureID][label][value] += 1\r\n",
    "\r\n",
    "label2value2freq_list\r\n"
   ],
   "outputs": [
    {
     "output_type": "execute_result",
     "data": {
      "text/plain": [
       "[{'Win': {'Home': 10, 'Away': 4}, 'Lose': {'Away': 5, 'Home': 5}},\n",
       " {'Win': {'Out': 12, 'In': 2}, 'Lose': {'In': 5, 'Out': 5}},\n",
       " {'Win': {'NBC': 10, 'ABC': 3, 'ESPN': 1},\n",
       "  'Lose': {'ABC': 4, 'FOX': 1, 'NBC': 4, 'CBS': 1}}]"
      ]
     },
     "metadata": {},
     "execution_count": 212
    }
   ],
   "metadata": {}
  },
  {
   "cell_type": "markdown",
   "source": [
    "### 3.2. Calculate P(H): Prior probability"
   ],
   "metadata": {}
  },
  {
   "cell_type": "code",
   "execution_count": 213,
   "source": [
    "label2prob = {}\r\n",
    "\r\n",
    "for label, freq in label2freq.items():\r\n",
    "    ### TODO 8: label2prob[label] = ________________ ###\r\n",
    "    label2prob[label] = freq / nTrainingInstances\r\n"
   ],
   "outputs": [],
   "metadata": {}
  },
  {
   "cell_type": "markdown",
   "source": [
    "### 3.3. Calculate P(X|H): Likelihood"
   ],
   "metadata": {}
  },
  {
   "cell_type": "code",
   "execution_count": 214,
   "source": [
    "label2value2prob_list = [{} for i in range(nFeatures)]\r\n",
    "\r\n",
    "for featureID in range(nFeatures):\r\n",
    "    for label in label2prob:\r\n",
    "        \r\n",
    "        label2value2prob_list[featureID][label] = {}\r\n",
    "        \r\n",
    "        ### TODO 9: for each value, label2value2prob_list[featureID][label][value] = ________________ ###\r\n",
    "        for value in label2value2freq_list[featureID][label].keys():\r\n",
    "            total = sum(label2value2freq_list[featureID][label].values())\r\n",
    "            label2value2prob_list[featureID][label][value] = label2value2freq_list[featureID][label][value] / total\r\n"
   ],
   "outputs": [],
   "metadata": {}
  },
  {
   "cell_type": "markdown",
   "source": [
    "### 3.4. Define a function to predict the label based on features by performing Bayesian Inference with training instances"
   ],
   "metadata": {}
  },
  {
   "cell_type": "code",
   "execution_count": 215,
   "source": [
    "def PredictBayes(trainingInstances, featureValues):\r\n",
    "    \r\n",
    "    label2posteriori = {}\r\n",
    "    \r\n",
    "    for label, prob in label2prob.items():\r\n",
    "        \r\n",
    "        posteriori = prob # Prior probability P(H)\r\n",
    "        \r\n",
    "        for featureID in range(nFeatures):\r\n",
    "            \r\n",
    "            if not label in label2value2prob_list[featureID]:\r\n",
    "                posteriori = 0\r\n",
    "                break\r\n",
    "                \r\n",
    "            value = featureValues[featureID]\r\n",
    "            \r\n",
    "            if not value in label2value2prob_list[featureID][label]:\r\n",
    "                posteriori = 0\r\n",
    "                break\r\n",
    "                \r\n",
    "            prob_likelihood = label2value2prob_list[featureID][label][value]\r\n",
    "            \r\n",
    "            ### TODO 10: posteriori = ________________ ###\r\n",
    "                \r\n",
    "            posteriori *= prob_likelihood\r\n",
    "            \r\n",
    "        label2posteriori[label] = posteriori\r\n",
    "        \r\n",
    "    label_posteriori = sorted(label2posteriori.items(), key=lambda x:-x[1])\r\n",
    "    \r\n",
    "    return label_posteriori[0][0]"
   ],
   "outputs": [],
   "metadata": {}
  },
  {
   "cell_type": "markdown",
   "source": [
    "### 3.5. Define a function to make prediction for each test instance in the set and calculate the Confusion Matrix"
   ],
   "metadata": {}
  },
  {
   "cell_type": "code",
   "execution_count": 216,
   "source": [
    "def GetConfusionMatrixBayes(testInstances):\r\n",
    "    \r\n",
    "    TP, FP, TN, FN = 0, 0, 0, 0\r\n",
    "\r\n",
    "    for featureValues, truthLabel in testInstances:\r\n",
    "\r\n",
    "        predictLabel = PredictBayes(trainingInstances, featureValues)\r\n",
    "\r\n",
    "        print(featureValues, \"Actual label:\", truthLabel, \"| Predicted label:\", predictLabel)\r\n",
    "\r\n",
    "        ### TODO (the same as TODO 6): ###\r\n",
    "        ### if ________________: TP += 1 ###\r\n",
    "        ### if ________________: FP += 1 ###\r\n",
    "        ### if ________________: FN += 1 ###\r\n",
    "        ### if ________________: TN += 1 ###\r\n",
    "\r\n",
    "        if truthLabel == \"Win\" and predictLabel == \"Win\":\r\n",
    "            TP += 1\r\n",
    "        elif truthLabel == \"Win\" and predictLabel == \"Lose\":\r\n",
    "            FN += 1\r\n",
    "        elif truthLabel == \"Lose\" and predictLabel == \"Win\":\r\n",
    "            FP += 1\r\n",
    "        elif truthLabel == \"Lose\" and predictLabel == \"Lose\":\r\n",
    "            TN += 1\r\n",
    "    \r\n",
    "    return TP, FP, TN, FN"
   ],
   "outputs": [],
   "metadata": {}
  },
  {
   "cell_type": "markdown",
   "source": [
    "### 3.6. Make prediction using Naive Bayes and find the Confusion Matrix"
   ],
   "metadata": {}
  },
  {
   "cell_type": "code",
   "execution_count": 217,
   "source": [
    "TP, FP, TN, FN = GetConfusionMatrixBayes(testInstances)"
   ],
   "outputs": [
    {
     "output_type": "stream",
     "name": "stdout",
     "text": [
      "['Home', 'Out', 'NBC'] Actual label: Win | Predicted label: Win\n",
      "['Home', 'In', 'NBC'] Actual label: Lose | Predicted label: Win\n",
      "['Away', 'Out', 'ESPN'] Actual label: Win | Predicted label: Win\n",
      "['Away', 'Out', 'FOX'] Actual label: Win | Predicted label: Lose\n",
      "['Home', 'Out', 'NBC'] Actual label: Win | Predicted label: Win\n",
      "['Away', 'Out', 'ABC'] Actual label: Win | Predicted label: Lose\n",
      "['Home', 'In', 'NBC'] Actual label: Win | Predicted label: Win\n",
      "['Home', 'Out', 'NBC'] Actual label: Win | Predicted label: Win\n",
      "['Home', 'Out', 'NBC'] Actual label: Win | Predicted label: Win\n",
      "['Away', 'In', 'ABC'] Actual label: Lose | Predicted label: Lose\n",
      "['Home', 'Out', 'NBC'] Actual label: Win | Predicted label: Win\n",
      "['Away', 'In', 'ABC'] Actual label: Lose | Predicted label: Lose\n"
     ]
    }
   ],
   "metadata": {}
  },
  {
   "cell_type": "markdown",
   "source": [
    "### 3.7. Calculate Accuracy, Precision, Recall, and F1 score"
   ],
   "metadata": {}
  },
  {
   "cell_type": "code",
   "execution_count": 218,
   "source": [
    "GetMetrics(TP, FP, TN, FN)"
   ],
   "outputs": [
    {
     "output_type": "stream",
     "name": "stdout",
     "text": [
      "Confusion matrix:\n",
      "\t ---------------\n",
      "\t | TP 7 | FN 2 |\n",
      "\t | FP 1 | TN 2 |\n",
      "\t ---------------\n",
      "Accuracy: 0.75\n",
      "Precision: 0.875\n",
      "Recall: 0.7778\n",
      "F1: 0.8235\n"
     ]
    }
   ],
   "metadata": {}
  }
 ],
 "metadata": {
  "kernelspec": {
   "name": "python3",
   "display_name": "Python 3.8.8 64-bit ('base': conda)"
  },
  "language_info": {
   "codemirror_mode": {
    "name": "ipython",
    "version": 3
   },
   "file_extension": ".py",
   "mimetype": "text/x-python",
   "name": "python",
   "nbconvert_exporter": "python",
   "pygments_lexer": "ipython3",
   "version": "3.8.8"
  },
  "interpreter": {
   "hash": "07efdcd4b820c98a756949507a4d29d7862823915ec7477944641bea022f4f62"
  }
 },
 "nbformat": 4,
 "nbformat_minor": 4
}